{
 "cells": [
  {
   "cell_type": "code",
   "execution_count": 20,
   "id": "5576769d",
   "metadata": {},
   "outputs": [],
   "source": [
    "import os\n",
    "os.environ['DJANGO_SETTINGS_MODULE'] = 'askcompany.settings'\n",
    "os.environ[\"DJANGO_ALLOW_ASYNC_UNSAFE\"] = \"true\"\n",
    "\n",
    "\n",
    "import django\n",
    "django.setup()"
   ]
  },
  {
   "cell_type": "code",
   "execution_count": 21,
   "id": "be87ab86",
   "metadata": {},
   "outputs": [],
   "source": [
    "from instagram.models import Post"
   ]
  },
  {
   "cell_type": "code",
   "execution_count": 22,
   "id": "c96f3b88",
   "metadata": {},
   "outputs": [
    {
     "data": {
      "text/plain": [
       "<QuerySet [<Post: first masg>, <Post: sec msg>, <Post: thd msg>]>"
      ]
     },
     "execution_count": 22,
     "metadata": {},
     "output_type": "execute_result"
    }
   ],
   "source": [
    "Post.objects.all()"
   ]
  },
  {
   "cell_type": "code",
   "execution_count": 23,
   "id": "485c36d5",
   "metadata": {},
   "outputs": [
    {
     "name": "stdout",
     "output_type": "stream",
     "text": [
      "SELECT \"instagram_post\".\"id\", \"instagram_post\".\"message\", \"instagram_post\".\"photo\", \"instagram_post\".\"is_public\", \"instagram_post\".\"created_at\", \"instagram_post\".\"updated_at\" FROM \"instagram_post\"\n"
     ]
    }
   ],
   "source": [
    "qs = Post.objects.all()\n",
    "print(qs.query)"
   ]
  },
  {
   "cell_type": "code",
   "execution_count": 26,
   "id": "96a5a4f3",
   "metadata": {},
   "outputs": [
    {
     "name": "stdout",
     "output_type": "stream",
     "text": [
      "SELECT \"instagram_post\".\"id\", \"instagram_post\".\"message\", \"instagram_post\".\"photo\", \"instagram_post\".\"is_public\", \"instagram_post\".\"created_at\", \"instagram_post\".\"updated_at\" FROM \"instagram_post\" ORDER BY \"instagram_post\".\"id\" DESC LIMIT 2\n"
     ]
    },
    {
     "data": {
      "text/plain": [
       "<QuerySet [<Post: thd msg>, <Post: sec msg>]>"
      ]
     },
     "execution_count": 26,
     "metadata": {},
     "output_type": "execute_result"
    }
   ],
   "source": [
    "qs = Post.objects.all().order_by('-id')[:2]\n",
    "print(qs.query)\n",
    "qs"
   ]
  },
  {
   "cell_type": "code",
   "execution_count": 29,
   "id": "aceeb78f",
   "metadata": {},
   "outputs": [
    {
     "name": "stdout",
     "output_type": "stream",
     "text": [
      "thd msg\n",
      "{'_state': <django.db.models.base.ModelState object at 0x0000020AFA8D1CF0>, 'id': 3, 'message': 'thd msg', 'photo': 'instagram/post/20211213/jordy.jpeg', 'is_public': True, 'created_at': datetime.datetime(2021, 12, 13, 1, 36, 48, 417848, tzinfo=datetime.timezone.utc), 'updated_at': datetime.datetime(2021, 12, 13, 2, 48, 4, 999673, tzinfo=datetime.timezone.utc)}\n",
      "sec msg\n",
      "{'_state': <django.db.models.base.ModelState object at 0x0000020AFA8D1F00>, 'id': 2, 'message': 'sec msg', 'photo': '', 'is_public': True, 'created_at': datetime.datetime(2021, 12, 13, 1, 36, 42, 730382, tzinfo=datetime.timezone.utc), 'updated_at': datetime.datetime(2021, 12, 13, 1, 58, 52, 29151, tzinfo=datetime.timezone.utc)}\n"
     ]
    }
   ],
   "source": [
    "for post in qs:\n",
    "    print(post.message)"
   ]
  },
  {
   "cell_type": "code",
   "execution_count": 36,
   "id": "bdebf83e",
   "metadata": {},
   "outputs": [
    {
     "data": {
      "text/plain": [
       "<QuerySet [<Post: thd msg>, <Post: sec msg>]>"
      ]
     },
     "execution_count": 36,
     "metadata": {},
     "output_type": "execute_result"
    }
   ],
   "source": [
    "query = 'msg' # 검색어\n",
    "qs = Post.objects.all().filter(message__icontains=query).order_by('-id') # 최신글\n",
    "qs"
   ]
  },
  {
   "cell_type": "code",
   "execution_count": 40,
   "id": "0caa39a1",
   "metadata": {},
   "outputs": [
    {
     "data": {
      "text/plain": [
       "<Post: first masg>"
      ]
     },
     "execution_count": 40,
     "metadata": {},
     "output_type": "execute_result"
    }
   ],
   "source": [
    "qs = Post.objects.all()\n",
    "qs.get(pk=1)\n"
   ]
  },
  {
   "cell_type": "code",
   "execution_count": 41,
   "id": "0eaf4c03",
   "metadata": {},
   "outputs": [
    {
     "data": {
      "text/plain": [
       "<Post: first masg>"
      ]
     },
     "execution_count": 41,
     "metadata": {},
     "output_type": "execute_result"
    }
   ],
   "source": [
    "qs.first()"
   ]
  },
  {
   "cell_type": "code",
   "execution_count": 42,
   "id": "c23e5c92",
   "metadata": {},
   "outputs": [
    {
     "data": {
      "text/plain": [
       "<Post: thd msg>"
      ]
     },
     "execution_count": 42,
     "metadata": {},
     "output_type": "execute_result"
    }
   ],
   "source": [
    "qs.last()"
   ]
  },
  {
   "cell_type": "code",
   "execution_count": 58,
   "id": "58bf9a06",
   "metadata": {},
   "outputs": [
    {
     "name": "stdout",
     "output_type": "stream",
     "text": [
      "SELECT \"instagram_post\".\"id\", \"instagram_post\".\"message\", \"instagram_post\".\"photo\", \"instagram_post\".\"is_public\", \"instagram_post\".\"created_at\", \"instagram_post\".\"updated_at\" FROM \"instagram_post\" WHERE (\"instagram_post\".\"id\" >= 2 OR \"instagram_post\".\"message\" LIKE %msg% ESCAPE '\\')\n",
      "SELECT \"instagram_post\".\"id\", \"instagram_post\".\"message\", \"instagram_post\".\"photo\", \"instagram_post\".\"is_public\", \"instagram_post\".\"created_at\", \"instagram_post\".\"updated_at\" FROM \"instagram_post\" WHERE (\"instagram_post\".\"id\" >= 2 AND \"instagram_post\".\"message\" LIKE %msg% ESCAPE '\\')\n"
     ]
    }
   ],
   "source": [
    "from django.db.models import Q\n",
    "\n",
    "query = 'msg'\n",
    "\n",
    "qs = Post.objects.all()\n",
    "qs_or = qs.filter(Q(id__gte = 2) | Q(message__icontains=query)) # OR\n",
    "qs_and = qs.filter(Q(id__gte = 2) & Q(message__icontains=query)) # AND\n",
    "print(qs_or.query)\n",
    "print(qs_and.query)"
   ]
  }
 ],
 "metadata": {
  "kernelspec": {
   "display_name": "Python 3 (ipykernel)",
   "language": "python",
   "name": "python3"
  },
  "language_info": {
   "codemirror_mode": {
    "name": "ipython",
    "version": 3
   },
   "file_extension": ".py",
   "mimetype": "text/x-python",
   "name": "python",
   "nbconvert_exporter": "python",
   "pygments_lexer": "ipython3",
   "version": "3.10.0"
  }
 },
 "nbformat": 4,
 "nbformat_minor": 5
}
