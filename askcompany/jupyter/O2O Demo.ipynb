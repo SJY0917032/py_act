{
 "cells": [
  {
   "cell_type": "code",
   "execution_count": 1,
   "id": "87a80c4a",
   "metadata": {},
   "outputs": [],
   "source": [
    "import os\n",
    "os.environ['DJANGO_SETTINGS_MODULE'] = 'askcompany.settings'\n",
    "os.environ[\"DJANGO_ALLOW_ASYNC_UNSAFE\"] = \"true\"\n",
    "\n",
    "\n",
    "import django\n",
    "django.setup()"
   ]
  },
  {
   "cell_type": "code",
   "execution_count": 2,
   "id": "73d8e224",
   "metadata": {},
   "outputs": [],
   "source": [
    "from accounts.models import Profile"
   ]
  },
  {
   "cell_type": "code",
   "execution_count": 5,
   "id": "ae373dc0",
   "metadata": {},
   "outputs": [
    {
     "data": {
      "text/plain": [
       "<Profile: Profile object (1)>"
      ]
     },
     "execution_count": 5,
     "metadata": {},
     "output_type": "execute_result"
    }
   ],
   "source": [
    "profile = Profile.objects.first()\n",
    "profile"
   ]
  },
  {
   "cell_type": "code",
   "execution_count": 6,
   "id": "e316a88f",
   "metadata": {
    "scrolled": true
   },
   "outputs": [
    {
     "data": {
      "text/plain": [
       "<User: admin>"
      ]
     },
     "execution_count": 6,
     "metadata": {},
     "output_type": "execute_result"
    }
   ],
   "source": [
    "profile.user"
   ]
  },
  {
   "cell_type": "code",
   "execution_count": 10,
   "id": "0418c8f0",
   "metadata": {},
   "outputs": [
    {
     "data": {
      "text/plain": [
       "<QuerySet [<User: admin>]>"
      ]
     },
     "execution_count": 10,
     "metadata": {},
     "output_type": "execute_result"
    }
   ],
   "source": [
    "from django.contrib.auth import get_user_model\n",
    "\n",
    "User = get_user_model()\n",
    "\n",
    "User.objects.all()\n",
    "\n"
   ]
  },
  {
   "cell_type": "code",
   "execution_count": 12,
   "id": "3d491094",
   "metadata": {},
   "outputs": [
    {
     "name": "stdout",
     "output_type": "stream",
     "text": [
      "<django.db.models.fields.related_descriptors.ReverseOneToOneDescriptor object at 0x00000168741287F0>\n"
     ]
    }
   ],
   "source": [
    "User.profile"
   ]
  }
 ],
 "metadata": {
  "kernelspec": {
   "display_name": "Python 3 (ipykernel)",
   "language": "python",
   "name": "python3"
  },
  "language_info": {
   "codemirror_mode": {
    "name": "ipython",
    "version": 3
   },
   "file_extension": ".py",
   "mimetype": "text/x-python",
   "name": "python",
   "nbconvert_exporter": "python",
   "pygments_lexer": "ipython3",
   "version": "3.10.0"
  }
 },
 "nbformat": 4,
 "nbformat_minor": 5
}
